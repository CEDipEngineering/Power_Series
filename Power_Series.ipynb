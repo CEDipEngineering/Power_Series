{
 "cells": [
  {
   "cell_type": "markdown",
   "metadata": {},
   "source": [
    "# Analisando séries de potências:\n",
    "\n",
    "## Definição:\n",
    "\n",
    "### $$S = \\sum_{n=0}^{\\infty} a_n\\cdot{(x-c)^n}$$ \n",
    "\n",
    "Onde \"$a_n$\" é uma constante associada a cada termo e \"$c$\" é o centro da série.\n",
    "\n",
    "## Exemplo 1:\n",
    "\n",
    "### $$S = \\sum_{n=0}^{\\infty} 1\\cdot{(x)^n}$$\n",
    "\n",
    "Neste caso, é bem simples dizer para quais casos a sequência converge. Se $-1<x<1$ a sequência converge. Porém como determinar isso de forma matemática?\n",
    "\n",
    "Bem, para responder isso, vamos entender melhor o que significa convergência.\n",
    "Uma série converge, quando sua soma se aproxima de um valor. Ou seja, para a soma parcial $S_p(n)$, podemos dizer que o limite $\\lim_{n\\to\\infty} S_p(n) = L$, onde $L$ é uma constante real. \n",
    "\n",
    "Também podemos afirmar que, para toda série convergente seu termo geral tende para zero. Ou seja, $\\lim_{n\\to\\infty} a_n\\cdot{(x-c)}^n = 0 $. Contudo, este teste não prova que a série converge, ele é apenas um pré-requisito. Ou seja, se ele não for atendido, a série é divergente com certeza.\n",
    "\n",
    "\n",
    "## Exemplo 2:\n",
    "\n",
    "### $$S = \\sum_{n=0}^{\\infty} \\frac{x}{n}$$\n",
    "\n",
    "Para esta série, não é tão fácil saber se ela converge. Analisando o termo geral $\\lim_{n\\to\\infty} \\frac{x}{n}$, vemos que ele é zero, qualquer que seja o $x$. Isso não prova a convergência, mas é um teste interessante. Como podemos tentar visualizar o que acontece com essa série? Vamos testar alguns valores. "
   ]
  },
  {
   "cell_type": "code",
   "execution_count": 3,
   "metadata": {},
   "outputs": [],
   "source": [
    "import numpy as np\n",
    "import matplotlib.pyplot as plt"
   ]
  },
  {
   "cell_type": "code",
   "execution_count": 4,
   "metadata": {},
   "outputs": [
    {
     "data": {
      "image/png": "[encoded data removed]",
      "text/plain": [
       "<Figure size 864x432 with 1 Axes>"
      ]
     },
     "metadata": {
      "needs_background": "light"
     },
     "output_type": "display_data"
    }
   ],
   "source": [
    "def serie_x_n(x, nlim):\n",
    "    series = [x/n for n in range(1,nlim)]\n",
    "    summed_series = []\n",
    "#     print(series)\n",
    "    for i in range(1,len(series)):\n",
    "        summed_series.append(sum(series[0:i]))\n",
    "    return(summed_series)\n",
    "\n",
    "plt.figure(figsize = (12,6))\n",
    "plt.plot(range(1,10000-1), serie_x_n(1,10000))\n",
    "plt.xlabel('Número de termos')\n",
    "plt.ylabel('Soma parcial')\n",
    "plt.title('Série harmônica')\n",
    "plt.show();"
   ]
  },
  {
   "cell_type": "markdown",
   "metadata": {},
   "source": [
    "Ainda não está claro se a série acima (para x = 1) converge. Podemos provar de algumas formas esta convergência. A primeira é a seguinte:\n",
    "Considere o gráfico abaixo:\n",
    "\n",
    "<img src = 'harmonic_integral.jpg' width = 55%>\n",
    "\n",
    "#### A integral da função $f(x) = \\frac{1}{x}$ de 1 a infinito deve, portanto, ser menor que a a soma dos retângulos.\n",
    "#### Calculando a integral, \n",
    "#### $$ \\int_1^\\infty \\frac{1}{x}\\cdot dx $$\n",
    "#### chegamos ao limite:\n",
    "#### $$\\lim_{x\\to\\infty} ln(x) = \\infty$$\n",
    "#### Assim provando a divergência."
   ]
  },
  {
   "cell_type": "markdown",
   "metadata": {},
   "source": [
    "#### Provamos que essa somatória diverge para o caso $x = 1$, porém como podemos avaliar se existem valores de x para os quais essa séries converge?\n",
    "#### Para responder essa pergunta é necessáro calcular o intervalo de convergência\n",
    "##### $$\\lim_{k\\to\\infty} \\mid \\frac{u_{n+1}}{u_n} \\mid < 1$$\n",
    "#### $$ {u_{n+1}} = a_{n+1}\\cdot{(x-c)^{n+1}} $$\n",
    "#### $$ {u_{n}} = a_{n}\\cdot{(x-c)^{n}} $$\n",
    "#### $$\\lim_{n\\to\\infty} \\mid \\frac{a_{n+1}\\cdot{(x-c)^{n+1}}}{a_{n}\\cdot{(x-c)^{n}}} \\mid < 1$$"
   ]
  },
  {
   "cell_type": "code",
   "execution_count": null,
   "metadata": {},
   "outputs": [],
   "source": []
  },
  {
   "cell_type": "code",
   "execution_count": null,
   "metadata": {},
   "outputs": [],
   "source": []
  }
 ],
 "metadata": {
  "kernelspec": {
   "display_name": "Python 3",
   "language": "python",
   "name": "python3"
  },
  "language_info": {
   "codemirror_mode": {
    "name": "ipython",
    "version": 3
   },
   "file_extension": ".py",
   "mimetype": "text/x-python",
   "name": "python",
   "nbconvert_exporter": "python",
   "pygments_lexer": "ipython3",
   "version": "3.7.1"
  }
 },
 "nbformat": 4,
 "nbformat_minor": 2
}
